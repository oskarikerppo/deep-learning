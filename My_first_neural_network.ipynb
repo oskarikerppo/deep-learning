{
 "cells": [
  {
   "cell_type": "markdown",
   "metadata": {
    "id": "qhFCJJT4Va-I"
   },
   "source": [
    "# **My first neural network**\n",
    "\n",
    "This notebook is adapted from Aurelion Geron's \"Neural nets in Keras\" notebook (section \"Building an Image Classifier\"). You can find all of his notebooks from [here](https://github.com/ageron/handson-ml2). You can find more details in the [TF Sequential model guide](https://www.tensorflow.org/guide/keras/sequential_model) (it uses a convolutional net as the model, but the text should be mostly understandable anyway)."
   ]
  },
  {
   "cell_type": "markdown",
   "metadata": {
    "id": "R9HEKyJDVa-J"
   },
   "source": [
    "<table align=\"left\">\n",
    "  <td>\n",
    "    <a target=\"_blank\" href=\"https://colab.research.google.com/github/ageron/handson-ml2/blob/master/10_neural_nets_with_keras.ipynb\"><img src=\"https://www.tensorflow.org/images/colab_logo_32px.png\" />Run in Google Colab</a>\n",
    "  </td>\n",
    "</table>"
   ]
  },
  {
   "cell_type": "markdown",
   "metadata": {
    "id": "hUuq81B8Va-K"
   },
   "source": [
    "We first import a few common modules and ensure MatplotLib plots figures inline."
   ]
  },
  {
   "cell_type": "code",
   "execution_count": 1,
   "metadata": {
    "id": "ZGXHxpgWVa-K"
   },
   "outputs": [],
   "source": [
    "import numpy as np\n",
    "import os\n",
    "\n",
    "%matplotlib inline\n",
    "import matplotlib as mpl\n",
    "import matplotlib.pyplot as plt\n",
    "mpl.rc('axes', labelsize=14)\n",
    "mpl.rc('xtick', labelsize=12)\n",
    "mpl.rc('ytick', labelsize=12)"
   ]
  },
  {
   "cell_type": "markdown",
   "metadata": {
    "id": "o0n7kI03Va-N"
   },
   "source": [
    "Import TensorFlow and Keras."
   ]
  },
  {
   "cell_type": "code",
   "execution_count": 2,
   "metadata": {
    "id": "dEkP6_ZNVa-O"
   },
   "outputs": [
    {
     "name": "stdout",
     "output_type": "stream",
     "text": [
      "TF:     2.4.1\n",
      "Keras:  2.4.0\n",
      "[PhysicalDevice(name='/physical_device:GPU:0', device_type='GPU')]\n",
      "Uses cuda:  True\n"
     ]
    }
   ],
   "source": [
    "import tensorflow as tf\n",
    "from tensorflow import keras\n",
    "\n",
    "# Just comment these off if you don't want to see them\n",
    "print(\"TF:    \", tf.__version__)\n",
    "print(\"Keras: \", keras.__version__)\n",
    "print(tf.config.list_physical_devices(\"GPU\"))\n",
    "print(\"Uses cuda: \", tf.test.is_built_with_cuda())"
   ]
  },
  {
   "cell_type": "markdown",
   "metadata": {
    "id": "RBGZLaPXdmL5"
   },
   "source": [
    "Initialize random number generators. In this way we get same results on different runs of the notebook."
   ]
  },
  {
   "cell_type": "code",
   "execution_count": 3,
   "metadata": {
    "id": "5CEvNwdtc_P8"
   },
   "outputs": [],
   "source": [
    "np.random.seed(42)\n",
    "tf.random.set_seed(42)"
   ]
  },
  {
   "cell_type": "markdown",
   "metadata": {
    "id": "Gj7F1cRneOmD"
   },
   "source": [
    "# Loading the Fashion MNIST dataset"
   ]
  },
  {
   "cell_type": "markdown",
   "metadata": {
    "id": "xA-d5O9gVa-O"
   },
   "source": [
    "Keras has a few [datasets](https://www.tensorflow.org/api_docs/python/tf/keras/datasets) readily available, and loading them is very easy. These datasets are reasonably small so we can just load them in numpy vectors. For the one we are using - Fashion MNIST - see its [`load_data`](https://www.tensorflow.org/api_docs/python/tf/keras/datasets/fashion_mnist/load_data) documentation for more information about this dataset.\n",
    "\n",
    "Fashion MNIST dataset is already split to a training set and a test set. We'll split the full training set further to an actual training set and a validation set (hence the choice of names below)."
   ]
  },
  {
   "cell_type": "code",
   "execution_count": 4,
   "metadata": {
    "id": "8-BhpaLdVa-O"
   },
   "outputs": [],
   "source": [
    "fashion_mnist = keras.datasets.fashion_mnist\n",
    "\n",
    "(X_train_full, y_train_full), (X_test, y_test) = fashion_mnist.load_data()"
   ]
  },
  {
   "cell_type": "markdown",
   "metadata": {
    "id": "Qhh56Q_AVa-O"
   },
   "source": [
    "Let's see what the training data is made of. Recall that tensors are just grid-like arrangements of elements. `shape` tells the form of that grid and `dtype` the type of elements."
   ]
  },
  {
   "cell_type": "code",
   "execution_count": 5,
   "metadata": {
    "id": "etSZhw9sVa-P"
   },
   "outputs": [
    {
     "name": "stdout",
     "output_type": "stream",
     "text": [
      "Training data shape: (60000, 28, 28)\n",
      "Training data dtype: uint8\n"
     ]
    }
   ],
   "source": [
    "print('Training data shape:', X_train_full.shape)\n",
    "print('Training data dtype:', X_train_full.dtype)"
   ]
  },
  {
   "cell_type": "markdown",
   "metadata": {
    "id": "6ag4MwSYVa-P"
   },
   "source": [
    "Each pixel intensity is represented as a byte (unsigned 8-bit integer), hence the value range is from 0 to 255."
   ]
  },
  {
   "cell_type": "markdown",
   "metadata": {
    "id": "pQBLD8WIUeLv"
   },
   "source": [
    "How about the labels?"
   ]
  },
  {
   "cell_type": "code",
   "execution_count": 6,
   "metadata": {
    "id": "Ej2s4uiiUg3V"
   },
   "outputs": [
    {
     "name": "stdout",
     "output_type": "stream",
     "text": [
      "Training label shape: (60000,)\n",
      "Training label dtype: uint8\n"
     ]
    }
   ],
   "source": [
    "print('Training label shape:', y_train_full.shape)\n",
    "print('Training label dtype:', y_train_full.dtype)"
   ]
  },
  {
   "cell_type": "markdown",
   "metadata": {
    "id": "3Fdb95jGVa-Q"
   },
   "source": [
    "The labels are the class IDs (represented as uint8), from 0 to 9:"
   ]
  },
  {
   "cell_type": "code",
   "execution_count": 7,
   "metadata": {
    "id": "XV9INcwwVa-Q"
   },
   "outputs": [
    {
     "name": "stdout",
     "output_type": "stream",
     "text": [
      "[9 0 0 ... 3 0 5]\n"
     ]
    }
   ],
   "source": [
    "print(y_train_full)"
   ]
  },
  {
   "cell_type": "markdown",
   "metadata": {
    "id": "bO2ywKV4Va-R"
   },
   "source": [
    "Here are the corresponding class names:"
   ]
  },
  {
   "cell_type": "code",
   "execution_count": 8,
   "metadata": {
    "id": "MFKMGJU6Va-R"
   },
   "outputs": [],
   "source": [
    "class_names = [\"T-shirt/top\", \"Trousers\", \"Pullover\", \"Dress\", \"Coat\",\n",
    "               \"Sandal\", \"Shirt\", \"Sneaker\", \"Bag\", \"Ankle boot\"]"
   ]
  },
  {
   "cell_type": "markdown",
   "metadata": {
    "id": "1lpuhWIqVa-R"
   },
   "source": [
    "We can no decode the class names of examples."
   ]
  },
  {
   "cell_type": "code",
   "execution_count": 9,
   "metadata": {
    "id": "JJopfiGpVa-R"
   },
   "outputs": [
    {
     "name": "stdout",
     "output_type": "stream",
     "text": [
      "Class of the first image is \" Ankle boot \"\n"
     ]
    }
   ],
   "source": [
    "print('Class of the first image is \"', class_names[y_train_full[0]], '\"')"
   ]
  },
  {
   "cell_type": "markdown",
   "metadata": {
    "id": "tluOh8RlVa-Q"
   },
   "source": [
    "We next split the full training set into a validation set (first 5000 examples) and the actual training set (from 5000 upwards). A similar split is done for the target values.\n",
    "\n",
    "We also scale all pixel intensities down to the 0-1 range and convert them to floats, simply by dividing them by (floating point) 255."
   ]
  },
  {
   "cell_type": "code",
   "execution_count": 10,
   "metadata": {
    "id": "OP_31aMUVa-Q"
   },
   "outputs": [],
   "source": [
    "X_valid, X_train = ((X_train_full[:5000] / 255.)-0.5)*2, ((X_train_full[5000:] / 255.)-0.5)*2\n",
    "\n",
    "y_valid, y_train = y_train_full[:5000], y_train_full[5000:]\n",
    "\n",
    "# remember to scale all data in a similar way\n",
    "X_test = ((X_test / 255.)-0.5)*2"
   ]
  },
  {
   "cell_type": "markdown",
   "metadata": {
    "id": "68UAGmDaVa-R"
   },
   "source": [
    "Let's verify that our datasets are as intended."
   ]
  },
  {
   "cell_type": "code",
   "execution_count": 11,
   "metadata": {
    "id": "wOXHODJUVa-R"
   },
   "outputs": [
    {
     "name": "stdout",
     "output_type": "stream",
     "text": [
      "Training data shape  : (55000, 28, 28)\n",
      "Validation data shape: (5000, 28, 28)\n",
      "Test data shape      : (10000, 28, 28)\n"
     ]
    }
   ],
   "source": [
    "print('Training data shape  :', X_train.shape)\n",
    "print('Validation data shape:', X_valid.shape)\n",
    "print('Test data shape      :', X_test.shape)"
   ]
  },
  {
   "cell_type": "markdown",
   "metadata": {
    "id": "0GoopuQ-Va-Q"
   },
   "source": [
    "You can plot an image using Matplotlib's `imshow()` function, with a `'binary'`\n",
    " color map. Note that we do this after scaling the pixels to 0-1 floats."
   ]
  },
  {
   "cell_type": "code",
   "execution_count": 12,
   "metadata": {
    "id": "fzAMtWKPVa-Q"
   },
   "outputs": [
    {
     "data": {
      "image/png": "[encoded data removed]",
      "text/plain": [
       "<Figure size 432x288 with 1 Axes>"
      ]
     },
     "metadata": {
      "needs_background": "light"
     },
     "output_type": "display_data"
    },
    {
     "name": "stdout",
     "output_type": "stream",
     "text": [
      "[[-1.         -1.         -1.         -1.         -1.         -1.\n",
      "  -1.         -1.         -1.         -1.         -1.         -1.\n",
      "  -1.         -1.         -1.         -1.         -1.         -1.\n",
      "  -1.         -0.99215686 -1.         -1.         -1.         -1.\n",
      "  -1.         -1.         -1.         -1.        ]\n",
      " [-1.         -1.         -1.         -1.         -1.         -1.\n",
      "  -1.         -1.         -1.         -1.         -1.         -0.65490196\n",
      "  -0.00392157  0.42745098  0.45098039  0.2627451  -0.05882353 -0.56862745\n",
      "  -1.         -1.         -1.         -1.         -1.         -1.\n",
      "  -1.         -1.         -1.         -1.        ]\n",
      " [-1.         -1.         -1.         -1.         -1.         -1.\n",
      "  -1.         -1.         -1.         -0.67058824  0.55294118  0.96862745\n",
      "   1.          0.96862745  0.95294118  0.9372549   1.          0.97647059\n",
      "   0.67843137 -0.21568627 -1.         -1.         -1.         -1.\n",
      "  -1.         -1.         -1.         -1.        ]\n",
      " [-1.         -1.         -1.         -1.         -1.         -1.\n",
      "  -0.98431373 -1.         -1.          0.82745098  0.97647059  0.85882353\n",
      "   0.8745098   0.83529412  0.85882353  0.84313725  0.85882353  0.85882353\n",
      "   0.99215686  0.78039216 -1.         -1.         -1.         -1.\n",
      "  -0.99215686 -1.         -1.         -1.        ]\n",
      " [-1.         -1.         -1.         -1.         -1.         -0.98431373\n",
      "  -1.         -1.         -0.8745098   0.64705882  0.76470588  0.68627451\n",
      "   0.37254902  0.70196078  0.69411765  0.51372549  0.5372549   0.77254902\n",
      "   0.73333333  0.63921569 -0.60784314 -1.         -1.         -0.98431373\n",
      "  -1.         -1.         -1.         -1.        ]\n",
      " [-1.         -1.         -1.         -1.         -0.98431373 -1.\n",
      "  -1.          0.56078431  0.79607843  0.81960784  0.80392157  0.92156863\n",
      "   0.6         0.71764706  0.98431373  0.92156863  0.62352941  0.52156863\n",
      "   0.74901961  0.81176471  0.85098039  0.84313725 -1.         -1.\n",
      "  -0.97647059 -1.         -1.         -1.        ]\n",
      " [-1.         -1.         -1.         -1.         -0.99215686 -1.\n",
      "   0.0745098   0.84313725  0.6         0.63921569  0.57647059  0.63921569\n",
      "   0.83529412  0.49019608  0.83529412  0.70980392  0.68627451  0.86666667\n",
      "   0.8745098   0.6         0.48235294  0.75686275  0.20784314 -1.\n",
      "  -1.         -1.         -1.         -1.        ]\n",
      " [-1.         -1.         -1.         -1.         -1.         -1.\n",
      "   0.52156863  0.57647059  0.56862745  0.63921569  0.58431373  0.51372549\n",
      "   0.60784314  0.52156863  0.43529412  0.70980392  0.81176471  0.54509804\n",
      "   0.34901961  0.41960784  0.51372549  0.60784314  0.56078431 -1.\n",
      "  -1.         -1.         -1.         -1.        ]\n",
      " [-1.         -1.         -1.         -1.         -1.         -0.97647059\n",
      "   0.6627451   0.59215686  0.4745098   0.48235294  0.5372549   0.55294118\n",
      "   0.55294118  0.57647059  0.5372549   0.70196078  0.40392157  0.30980392\n",
      "   0.43529412  0.70196078  0.54509804  0.58431373  0.71764706 -0.76470588\n",
      "  -1.         -1.         -1.         -1.        ]\n",
      " [-1.         -1.         -1.         -1.         -1.         -0.73333333\n",
      "   0.76470588  0.56862745  0.52156863  0.49019608  0.4745098   0.50588235\n",
      "   0.5372549   0.50588235  0.33333333  0.58431373  0.49019608  0.57647059\n",
      "   0.52941176  0.56862745  0.57647059  0.63921569  0.78039216 -0.60784314\n",
      "  -1.         -1.         -1.         -1.        ]\n",
      " [-1.         -1.         -1.         -1.         -1.         -0.46666667\n",
      "   0.76470588  0.64705882  0.65490196  0.55294118  0.50588235  0.5372549\n",
      "   0.6         0.5372549   0.41960784  0.6627451   0.54509804  0.52941176\n",
      "   0.50588235  0.61568627  0.7254902   0.64705882  0.79607843 -0.27058824\n",
      "  -1.         -1.         -1.         -1.        ]\n",
      " [-1.         -1.         -1.         -1.         -1.         -0.12941176\n",
      "   0.74901961  0.78039216  0.98431373  0.63921569  0.5372549   0.6\n",
      "   0.65490196  0.61568627  0.43529412  0.69411765  0.61568627  0.64705882\n",
      "   0.59215686  0.68627451  0.91372549  0.75686275  0.78039216  0.17647059\n",
      "  -1.         -1.         -1.         -1.        ]\n",
      " [-1.         -1.         -1.         -1.         -1.          0.09019608\n",
      "   0.76470588  0.75686275  1.          0.58431373  0.61568627  0.6627451\n",
      "   0.63921569  0.65490196  0.49019608  0.67058824  0.58431373  0.62352941\n",
      "   0.61568627  0.74117647  1.          0.80392157  0.7254902   0.49019608\n",
      "  -1.         -1.         -1.         -1.        ]\n",
      " [-1.         -1.         -1.         -1.         -1.          0.41176471\n",
      "   0.77254902  0.75686275  1.          0.56078431  0.6         0.62352941\n",
      "   0.67843137  0.67843137  0.49019608  0.69411765  0.61568627  0.59215686\n",
      "   0.60784314  0.71764706  0.90588235  0.75686275  0.67843137  0.83529412\n",
      "  -1.         -1.         -1.         -1.        ]\n",
      " [-1.         -1.         -1.         -1.         -1.          0.76470588\n",
      "   0.74901961  0.78823529  0.99215686  0.63921569  0.61568627  0.63137255\n",
      "   0.67058824  0.64705882  0.49803922  0.68627451  0.62352941  0.6\n",
      "   0.63137255  0.65490196  0.95294118  0.77254902  0.67843137  1.\n",
      "  -0.70196078 -1.         -1.         -1.        ]\n",
      " [-1.         -1.         -1.         -1.         -1.          0.96078431\n",
      "   0.81960784  0.88235294  0.8745098   0.65490196  0.59215686  0.63921569\n",
      "   0.60784314  0.65490196  0.54509804  0.68627451  0.63137255  0.63137255\n",
      "   0.67843137  0.67058824  0.8745098   0.81176471  0.71764706  1.\n",
      "  -0.36470588 -1.         -1.         -1.        ]\n",
      " [-1.         -1.         -1.         -1.         -1.          0.94509804\n",
      "   0.85098039  0.9372549   0.88235294  0.59215686  0.56862745  0.63137255\n",
      "   0.61568627  0.67843137  0.51372549  0.67058824  0.6627451   0.63137255\n",
      "   0.6627451   0.65490196  0.90588235  0.89803922  0.76470588  0.99215686\n",
      "  -0.48235294 -1.         -1.         -1.        ]\n",
      " [-1.         -1.         -1.         -1.         -1.          0.9372549\n",
      "   0.80392157  0.97647059  0.77254902  0.56078431  0.65490196  0.58431373\n",
      "   0.65490196  0.67058824  0.42745098  0.67058824  0.6627451   0.61568627\n",
      "   0.58431373  0.71764706  0.62352941  0.9372549   0.74117647  0.85882353\n",
      "  -0.18431373 -1.         -1.         -1.        ]\n",
      " [-1.         -1.         -1.         -1.         -0.92156863  0.91372549\n",
      "   0.71764706  0.96078431  0.60784314  0.56078431  0.63921569  0.58431373\n",
      "   0.63921569  0.65490196  0.48235294  0.67843137  0.61568627  0.64705882\n",
      "   0.56862745  0.6627451   0.20784314  0.88235294  0.63137255  0.71764706\n",
      "   0.09803922 -1.         -1.         -1.        ]\n",
      " [-1.         -1.         -1.         -1.         -0.83529412  1.\n",
      "   0.74117647  0.86666667  0.44313725  0.64705882  0.50588235  0.61568627\n",
      "   0.63921569  0.64705882  0.48235294  0.67058824  0.65490196  0.63921569\n",
      "   0.50588235  0.78823529  0.21568627  0.77254902  0.86666667  0.89019608\n",
      "   0.30196078 -1.         -1.         -1.        ]\n",
      " [-1.         -1.         -1.         -1.         -0.70980392  0.92156863\n",
      "   0.77254902  0.89019608  0.17647059  0.54509804  0.48235294  0.6\n",
      "   0.63921569  0.64705882  0.43529412  0.67058824  0.67058824  0.57647059\n",
      "   0.44313725  0.68627451  0.14509804  0.69411765  0.85098039  0.76470588\n",
      "   0.20784314 -1.         -1.         -1.        ]\n",
      " [-1.         -1.         -1.         -1.         -0.54509804  0.8745098\n",
      "   0.78039216  1.          0.23921569  0.51372549  0.52941176  0.6\n",
      "   0.63921569  0.67058824  0.41176471  0.62352941  0.70196078  0.56078431\n",
      "   0.52156863  0.65490196  0.23921569  0.71764706  0.85098039  0.69411765\n",
      "   0.18431373 -1.         -1.         -1.        ]\n",
      " [-1.         -1.         -1.         -1.         -0.46666667  0.82745098\n",
      "   0.77254902  0.90588235  0.09019608  0.56862745  0.51372549  0.60784314\n",
      "   0.64705882  0.63137255  0.41176471  0.60784314  0.6627451   0.59215686\n",
      "   0.5372549   0.69411765  0.23137255  0.40392157  1.          0.69411765\n",
      "   0.21568627 -1.         -1.         -1.        ]\n",
      " [-1.         -1.         -1.         -1.         -0.36470588  0.76470588\n",
      "   0.75686275  0.65490196  0.08235294  0.71764706  0.45098039  0.57647059\n",
      "   0.67058824  0.62352941  0.54509804  0.77254902  0.6627451   0.56862745\n",
      "   0.49019608  0.68627451  0.43529412 -0.29411765  1.          0.65490196\n",
      "   0.15294118 -1.         -1.         -1.        ]\n",
      " [-1.         -1.         -1.         -1.         -0.28627451  0.64705882\n",
      "   0.80392157  0.23921569 -0.10588235  0.60784314  0.46666667  0.63137255\n",
      "   0.63921569  0.61568627  0.51372549  0.64705882  0.65490196  0.6\n",
      "   0.52941176  0.6         0.41960784 -0.81960784  1.          0.67058824\n",
      "   0.23921569 -1.         -1.         -1.        ]\n",
      " [-1.         -1.         -1.         -1.         -0.31764706  0.60784314\n",
      "   0.81960784 -0.14509804  0.28627451  1.          0.67843137  0.75686275\n",
      "   0.74117647  0.64705882  0.54509804  0.67843137  0.76470588  0.74117647\n",
      "   0.65490196  0.7254902   0.70196078 -1.          0.83529412  0.69411765\n",
      "   0.3254902  -1.         -1.         -1.        ]\n",
      " [-1.         -1.         -1.         -1.         -0.27843137  0.67058824\n",
      "   0.81960784  0.14509804 -0.96078431  0.05098039  0.18431373  0.27058824\n",
      "   0.33333333  0.43529412  0.42745098  0.28627451  0.30196078  0.39607843\n",
      "   0.27058824  0.22352941 -0.23137255 -1.          0.88235294  0.76470588\n",
      "   0.64705882 -1.         -1.         -1.        ]\n",
      " [-1.         -1.         -1.         -1.         -0.6627451   0.28627451\n",
      "   0.61568627  0.10588235 -1.         -1.         -1.         -1.\n",
      "  -1.         -1.         -1.         -1.         -1.         -1.\n",
      "  -1.         -1.         -1.         -1.         -0.00392157 -0.01960784\n",
      "  -0.40392157 -1.         -1.         -1.        ]]\n",
      "1.0\n",
      "-1.0\n"
     ]
    }
   ],
   "source": [
    "plt.imshow(X_train[0], cmap=\"binary\")\n",
    "plt.axis('off')\n",
    "plt.show()\n",
    "print(X_train[0])\n",
    "print(np.max(X_train[0]))\n",
    "print(np.min(X_train[0]))"
   ]
  },
  {
   "cell_type": "markdown",
   "metadata": {
    "id": "at7-ad3pVa-S"
   },
   "source": [
    "Let's take a look at a larger sample of images (we also label them with their class names)."
   ]
  },
  {
   "cell_type": "code",
   "execution_count": 13,
   "metadata": {
    "id": "VVrqe8aSVa-S"
   },
   "outputs": [
    {
     "data": {
      "image/png": "[encoded data removed]",
      "text/plain": [
       "<Figure size 864x345.6 with 40 Axes>"
      ]
     },
     "metadata": {
      "needs_background": "light"
     },
     "output_type": "display_data"
    }
   ],
   "source": [
    "n_rows = 4\n",
    "n_cols = 10\n",
    "plt.figure(figsize=(n_cols * 1.2, n_rows * 1.2))\n",
    "\n",
    "for row in range(n_rows):\n",
    "    for col in range(n_cols):\n",
    "        index = n_cols * row + col\n",
    "        plt.subplot(n_rows, n_cols, index + 1)\n",
    "        plt.imshow(X_train[index], cmap=\"binary\", interpolation=\"nearest\")\n",
    "        plt.axis('off')\n",
    "        plt.title(class_names[y_train[index]], fontsize=12)\n",
    "\n",
    "plt.subplots_adjust(wspace=0.2, hspace=0.5)\n",
    "\n",
    "plt.show()"
   ]
  },
  {
   "cell_type": "markdown",
   "metadata": {
    "id": "pv2AuYfKZc8T"
   },
   "source": [
    "# Creating the model"
   ]
  },
  {
   "cell_type": "markdown",
   "metadata": {
    "id": "kNRrt6bwZkbs"
   },
   "source": [
    "We build a MLP with two hidden layers using the Keras [Sequential API](https://www.tensorflow.org/api_docs/python/tf/keras/Sequential).\n",
    "\n",
    "Sequential models offer a very easy way of building neural networks that are composed of a single stack of layers connected sequentially (like MLPs). We just add them on top of each other using the `add` operation."
   ]
  },
  {
   "cell_type": "code",
   "execution_count": 14,
   "metadata": {
    "id": "mqeyrGfrdB8N"
   },
   "outputs": [],
   "source": [
    "model = keras.models.Sequential()"
   ]
  },
  {
   "cell_type": "markdown",
   "metadata": {
    "id": "Jx4P9ZIKdKSM"
   },
   "source": [
    "Recall that MLPs want their inputs as vectors. And our data consists of small matrices.\n",
    "\n",
    "The first layer is an utility layer that converts (flattens) the pixel matrices to vectors (of 28*28 = 784 elements). You could do the same with Numpy [`reshape`](https://numpy.org/doc/stable/reference/generated/numpy.reshape.html)(and then use the resulting vector as the input)."
   ]
  },
  {
   "cell_type": "code",
   "execution_count": 15,
   "metadata": {
    "id": "LHt5xJ38dGZ0"
   },
   "outputs": [],
   "source": [
    "model.add(keras.layers.Flatten(input_shape = (28, 28)))"
   ]
  },
  {
   "cell_type": "markdown",
   "metadata": {
    "id": "p9NesDZSz9mo"
   },
   "source": [
    "We also specified the input shape for the first layer appearing in the network.Note that the shape does _not_ include the minibatch size, just the shape of the data elements. Keras needs to know this shape before it can (automatically) build weight matrix and bias vector between the input and first hidden layer.\n",
    "\n",
    "Specifying the input shape is not strictly necessary: Keras will build the weight matrix when the model is first trained with actual data (the input shape is evident from the trainig data).\n",
    "\n",
    "*Best practise*: specify the input shape of a Sequential model if you know what it is. In this way you can print model summaries immediately after adding layers."
   ]
  },
  {
   "cell_type": "code",
   "execution_count": 16,
   "metadata": {
    "id": "LIYPs6vgWtby"
   },
   "outputs": [
    {
     "name": "stdout",
     "output_type": "stream",
     "text": [
      "784\n"
     ]
    }
   ],
   "source": [
    "# It's also a good practise to present numbers as products of the things they are made of\n",
    "# So instead of 784 (nobody knows where it came from), use 28*28\n",
    "print(28*28)"
   ]
  },
  {
   "cell_type": "markdown",
   "metadata": {
    "id": "ikdYII23fORc"
   },
   "source": [
    "Next we add two (fully connected) hidden layers and specify their sizes and activation functions.\n",
    "\n",
    "Fully connected layers are called [`Dense`](https://www.tensorflow.org/api_docs/python/tf/keras/layers/Dense) layers. Each Dense layer has its own weight matrix and bias vector.\n",
    "\n",
    "If you don't give an activation, it defaults to \"no activation\" (i.e. the output is what weight matrix*input vector + bias gives).\n",
    "\n",
    "**Note.**\n",
    "Many Keras operations can be accessed using a \"string name\". For example, specifying `activation=\"relu\"` is equivalent to specifying `activation=keras.activations.relu`. In practise this means that the corresponding operation will be used with its default parameter values. You find lots and lots of tutorials using this string naming.\n",
    "\n",
    "*Best practise:* Always use the actual classes and operations, not their string names. Everyone sees then from which library the operation comes from, and you can give your own parameter values instead of the default ones. If you want to make the names shorter, just introduce your own aliases."
   ]
  },
  {
   "cell_type": "code",
   "execution_count": 17,
   "metadata": {
    "id": "G4qEntZRVa-S"
   },
   "outputs": [],
   "source": [
    "model.add(keras.layers.Dense(300, activation = keras.activations.relu))\n",
    "\n",
    "# use your own naming\n",
    "my_activation = keras.activations.relu\n",
    "model.add(keras.layers.Dense(100, activation = my_activation))"
   ]
  },
  {
   "cell_type": "code",
   "execution_count": 18,
   "metadata": {
    "id": "HyO4kJY3XEJi"
   },
   "outputs": [],
   "source": [
    "   model.add(# same using the string names\n",
    "# model.add(keras.layers.Dense(300, activation=\"relu\"))\n",
    "# model.add(keras.layers.Dense(100, activation=\"relu\"))"
   ]
  },
  {
   "cell_type": "markdown",
   "metadata": {
    "id": "X9v3TqB3j1se"
   },
   "source": [
    "We end the model with an output layer of size 10 (since we had 10 classes) and [`softmax`](https://www.tensorflow.org/api_docs/python/tf/keras/activations/softmax) activation (since we have a multiclass problem).\n"
   ]
  },
  {
   "cell_type": "code",
   "execution_count": 19,
   "metadata": {
    "id": "H3xTITqjhLB7"
   },
   "outputs": [],
   "source": [
    "model.add(keras.layers.Dense(10, activation = keras.activations.softmax))\n",
    "\n",
    "# model.add(keras.layers.Dense(10, activation = \"softmax\"))"
   ]
  },
  {
   "cell_type": "markdown",
   "metadata": {
    "id": "LhaS3Vojkclg"
   },
   "source": [
    "The Sequential model initializer accepts a list of model layers, so we can build our model also in the way below. This is a more flexible way and allows you to build such layer lists in your code before creating a model."
   ]
  },
  {
   "cell_type": "code",
   "execution_count": 20,
   "metadata": {
    "id": "d4vBF1s5Va-S"
   },
   "outputs": [],
   "source": [
    "# This is useful when you create and throw away lots of models (consumes memory)\n",
    "# See https://www.tensorflow.org/api_docs/python/tf/keras/backend/clear_session\n",
    "\n",
    "def free_memory():\n",
    "  keras.backend.clear_session()"
   ]
  },
  {
   "cell_type": "code",
   "execution_count": 21,
   "metadata": {
    "id": "0fDT9XJqVa-S"
   },
   "outputs": [],
   "source": [
    "model = keras.models.Sequential([\n",
    "    keras.layers.Flatten(input_shape = (28, 28)),\n",
    "    keras.layers.Dense(300, activation = keras.activations.relu),\n",
    "    keras.layers.Dense(100, activation = keras.activations.relu),\n",
    "    keras.layers.Dense(10,  activation = keras.activations.softmax)\n",
    "])"
   ]
  },
  {
   "cell_type": "markdown",
   "metadata": {
    "id": "Vy88pfuQaXtV"
   },
   "source": [
    "You can also make a routine that returns models. In this way you can easily create new fresh untrained models when needed."
   ]
  },
  {
   "cell_type": "code",
   "execution_count": 22,
   "metadata": {
    "id": "YtQSbkK3ajuH"
   },
   "outputs": [],
   "source": [
    "def create_MLP():\n",
    "  model = keras.models.Sequential([\n",
    "    keras.layers.Flatten(input_shape = (28, 28)),\n",
    "    keras.layers.Dense(300, activation = keras.activations.relu),\n",
    "    keras.layers.Dense(100, activation = keras.activations.relu),\n",
    "    keras.layers.Dense(10,  activation = keras.activations.softmax)\n",
    "  ])\n",
    "  return model"
   ]
  },
  {
   "cell_type": "code",
   "execution_count": 23,
   "metadata": {
    "id": "7iXENz6easBP"
   },
   "outputs": [],
   "source": [
    "free_memory()\n",
    "model = create_MLP()"
   ]
  },
  {
   "cell_type": "markdown",
   "metadata": {
    "id": "uoRvyRUPmOBb"
   },
   "source": [
    "# Examining models"
   ]
  },
  {
   "cell_type": "markdown",
   "metadata": {
    "id": "H4Yt5XK8mdlR"
   },
   "source": [
    "The usual way to examine a (possibly partially) built model is its `summary()`."
   ]
  },
  {
   "cell_type": "code",
   "execution_count": 24,
   "metadata": {
    "id": "Evca-Cdsm6vY"
   },
   "outputs": [
    {
     "name": "stdout",
     "output_type": "stream",
     "text": [
      "Model: \"sequential\"\n",
      "_________________________________________________________________\n",
      "Layer (type)                 Output Shape              Param #   \n",
      "=================================================================\n",
      "flatten (Flatten)            (None, 784)               0         \n",
      "_________________________________________________________________\n",
      "dense (Dense)                (None, 300)               235500    \n",
      "_________________________________________________________________\n",
      "dense_1 (Dense)              (None, 100)               30100     \n",
      "_________________________________________________________________\n",
      "dense_2 (Dense)              (None, 10)                1010      \n",
      "=================================================================\n",
      "Total params: 266,610\n",
      "Trainable params: 266,610\n",
      "Non-trainable params: 0\n",
      "_________________________________________________________________\n"
     ]
    }
   ],
   "source": [
    "model.summary()"
   ]
  },
  {
   "cell_type": "markdown",
   "metadata": {
    "id": "o1ghW87QxC3M"
   },
   "source": [
    "The first axis is (always) the \"batch axis\". Value `None` tells that it has not been specified (this is ok and allows you to use different minibatch sizes with the same model)."
   ]
  },
  {
   "cell_type": "markdown",
   "metadata": {
    "id": "XCK6JBsL4Kpw"
   },
   "source": [
    "*Best practise:*  When building a new model, print model summaries every now and then after adding new layers.\n"
   ]
  },
  {
   "cell_type": "markdown",
   "metadata": {
    "id": "ogL4gnmzxWmw"
   },
   "source": [
    "There is also a utility `plot_model` to get a graphical representation of a model. In more complex architectures, this is helpful to get a grasp on how different parts of the model are connected to each other. Since MLP is just a stack, the graphics don't really add anything new to the summary."
   ]
  },
  {
   "cell_type": "code",
   "execution_count": 25,
   "metadata": {
    "id": "cJLWprRlm-qP"
   },
   "outputs": [
    {
     "data": {
      "image/png": "[encoded data removed]",
      "text/plain": [
       "<IPython.core.display.Image object>"
      ]
     },
     "execution_count": 25,
     "metadata": {},
     "output_type": "execute_result"
    }
   ],
   "source": [
    "keras.utils.plot_model(model, show_shapes=True)"
   ]
  },
  {
   "cell_type": "markdown",
   "metadata": {
    "id": "GTEjSMJ2X-Qb"
   },
   "source": [
    "## Sidestep: Examining layers"
   ]
  },
  {
   "cell_type": "markdown",
   "metadata": {
    "id": "D69KZHCZoHu-"
   },
   "source": [
    "You might need to access the layers directly in some applications. The layers are stored as a list in `model.layers`. See https://www.tensorflow.org/api_docs/python/tf/keras/layers/Layer for all details."
   ]
  },
  {
   "cell_type": "code",
   "execution_count": 26,
   "metadata": {
    "id": "9pwT5HYKpLRn"
   },
   "outputs": [
    {
     "data": {
      "text/plain": [
       "list"
      ]
     },
     "execution_count": 26,
     "metadata": {},
     "output_type": "execute_result"
    }
   ],
   "source": [
    "type(model.layers)"
   ]
  },
  {
   "cell_type": "code",
   "execution_count": 27,
   "metadata": {
    "id": "Koeakw5TVa-T"
   },
   "outputs": [
    {
     "name": "stdout",
     "output_type": "stream",
     "text": [
      "<tensorflow.python.keras.layers.core.Flatten object at 0x7f92fb386b80>\n",
      "<tensorflow.python.keras.layers.core.Dense object at 0x7f9190e651f0>\n",
      "<tensorflow.python.keras.layers.core.Dense object at 0x7f92f53b1820>\n",
      "<tensorflow.python.keras.layers.core.Dense object at 0x7f9191205070>\n"
     ]
    }
   ],
   "source": [
    "print(*model.layers, sep='\\n')"
   ]
  },
  {
   "cell_type": "markdown",
   "metadata": {
    "id": "bac15iojpkIl"
   },
   "source": [
    "All layers have also a name (string). You can specify your own names when creating a layers. If you don't, Keras uses its own internal naming scheme (as seen in the summary)."
   ]
  },
  {
   "cell_type": "code",
   "execution_count": 28,
   "metadata": {
    "id": "FsDv1tz0Va-T"
   },
   "outputs": [
    {
     "name": "stdout",
     "output_type": "stream",
     "text": [
      "dense\n"
     ]
    }
   ],
   "source": [
    "hidden1 = model.layers[1]\n",
    "print(hidden1.name)"
   ]
  },
  {
   "cell_type": "markdown",
   "metadata": {
    "id": "Ok6eN1ROqHgL"
   },
   "source": [
    "While you can access layers by their index, you can also access them by their name."
   ]
  },
  {
   "cell_type": "code",
   "execution_count": 29,
   "metadata": {
    "id": "qw6VWJqnVa-T"
   },
   "outputs": [
    {
     "name": "stdout",
     "output_type": "stream",
     "text": [
      "True\n"
     ]
    }
   ],
   "source": [
    "named_layer = model.get_layer(hidden1.name)\n",
    "# test that we got the same layer as when indexing with 1\n",
    "print(named_layer is hidden1)"
   ]
  },
  {
   "cell_type": "markdown",
   "metadata": {
    "id": "_0xQha13qkgL"
   },
   "source": [
    "You have also access to the weights and biases of layers. Operation `get_weights` returns all parameters (weights and biases in this case) of the layer in a list. This may be a bit confusing in the start."
   ]
  },
  {
   "cell_type": "code",
   "execution_count": 30,
   "metadata": {
    "id": "dr2flGfWVa-T"
   },
   "outputs": [
    {
     "name": "stdout",
     "output_type": "stream",
     "text": [
      "<class 'list'>\n",
      "2\n"
     ]
    }
   ],
   "source": [
    "h1_params = hidden1.get_weights()\n",
    "print(type(h1_params))\n",
    "print(len(h1_params))"
   ]
  },
  {
   "cell_type": "markdown",
   "metadata": {
    "id": "KLzonz2LtQ7W"
   },
   "source": [
    "Let's first examine the weights. Looks like they have been initialized to small random values."
   ]
  },
  {
   "cell_type": "code",
   "execution_count": 31,
   "metadata": {
    "id": "cnDl0dqArTeX"
   },
   "outputs": [
    {
     "name": "stdout",
     "output_type": "stream",
     "text": [
      "<class 'numpy.ndarray'>\n",
      "Weight matrix shape:  (784, 300) \n",
      "\n",
      "[[-0.00958908  0.00369985 -0.00048406 ... -0.07357587 -0.02742664\n",
      "  -0.04121105]\n",
      " [ 0.06529447 -0.07138363  0.05846708 ... -0.0041897   0.06529114\n",
      "  -0.03365361]\n",
      " [ 0.05264154 -0.03162553  0.01164634 ... -0.04076129  0.01914155\n",
      "  -0.03140609]\n",
      " ...\n",
      " [ 0.0286293   0.03434967 -0.00212682 ... -0.0253939   0.06216036\n",
      "   0.01375941]\n",
      " [ 0.00351328  0.05891068 -0.01023991 ...  0.05314083 -0.06726155\n",
      "   0.07313393]\n",
      " [-0.00130923  0.045985    0.04936647 ...  0.02184285 -0.01658475\n",
      "   0.06170258]] \n",
      "\n",
      "Weight at 0,0: -0.0095890835\n"
     ]
    }
   ],
   "source": [
    "# weights are the first element\n",
    "h1_weights = h1_params[0]\n",
    "print(type(h1_weights))\n",
    "print('Weight matrix shape: ', h1_weights.shape, '\\n')\n",
    "print(h1_weights, '\\n')\n",
    "print('Weight at 0,0:', h1_weights[0,0])"
   ]
  },
  {
   "cell_type": "markdown",
   "metadata": {
    "id": "BzxMmmactafI"
   },
   "source": [
    "Biases, on the other hand, have been initialized to zeros (it's ok)."
   ]
  },
  {
   "cell_type": "code",
   "execution_count": 32,
   "metadata": {
    "id": "AAAVq-KlsN-s"
   },
   "outputs": [
    {
     "name": "stdout",
     "output_type": "stream",
     "text": [
      "<class 'numpy.ndarray'>\n",
      "Bias vector shape:  (300,) \n",
      "\n",
      "[0. 0. 0. 0. 0. 0. 0. 0. 0. 0. 0. 0. 0. 0. 0. 0. 0. 0. 0. 0. 0. 0. 0. 0.\n",
      " 0. 0. 0. 0. 0. 0. 0. 0. 0. 0. 0. 0. 0. 0. 0. 0. 0. 0. 0. 0. 0. 0. 0. 0.\n",
      " 0. 0. 0. 0. 0. 0. 0. 0. 0. 0. 0. 0. 0. 0. 0. 0. 0. 0. 0. 0. 0. 0. 0. 0.\n",
      " 0. 0. 0. 0. 0. 0. 0. 0. 0. 0. 0. 0. 0. 0. 0. 0. 0. 0. 0. 0. 0. 0. 0. 0.\n",
      " 0. 0. 0. 0. 0. 0. 0. 0. 0. 0. 0. 0. 0. 0. 0. 0. 0. 0. 0. 0. 0. 0. 0. 0.\n",
      " 0. 0. 0. 0. 0. 0. 0. 0. 0. 0. 0. 0. 0. 0. 0. 0. 0. 0. 0. 0. 0. 0. 0. 0.\n",
      " 0. 0. 0. 0. 0. 0. 0. 0. 0. 0. 0. 0. 0. 0. 0. 0. 0. 0. 0. 0. 0. 0. 0. 0.\n",
      " 0. 0. 0. 0. 0. 0. 0. 0. 0. 0. 0. 0. 0. 0. 0. 0. 0. 0. 0. 0. 0. 0. 0. 0.\n",
      " 0. 0. 0. 0. 0. 0. 0. 0. 0. 0. 0. 0. 0. 0. 0. 0. 0. 0. 0. 0. 0. 0. 0. 0.\n",
      " 0. 0. 0. 0. 0. 0. 0. 0. 0. 0. 0. 0. 0. 0. 0. 0. 0. 0. 0. 0. 0. 0. 0. 0.\n",
      " 0. 0. 0. 0. 0. 0. 0. 0. 0. 0. 0. 0. 0. 0. 0. 0. 0. 0. 0. 0. 0. 0. 0. 0.\n",
      " 0. 0. 0. 0. 0. 0. 0. 0. 0. 0. 0. 0. 0. 0. 0. 0. 0. 0. 0. 0. 0. 0. 0. 0.\n",
      " 0. 0. 0. 0. 0. 0. 0. 0. 0. 0. 0. 0.] \n",
      "\n",
      "Bias at 0: 0.0\n"
     ]
    }
   ],
   "source": [
    "# and biases are the second one\n",
    "h1_biases = h1_params[1]\n",
    "print(type(h1_biases))\n",
    "print('Bias vector shape: ', h1_biases.shape, '\\n')\n",
    "print(h1_biases, '\\n')\n",
    "print('Bias at 0:', h1_biases[0])"
   ]
  },
  {
   "cell_type": "markdown",
   "metadata": {
    "id": "rg8OVpxTspLL"
   },
   "source": [
    "The values in weights and biases were initialized when the layers were created. The values seen above are the result of applying default initializers; see [`Dense`](https://www.tensorflow.org/api_docs/python/tf/keras/layers/Dense) documentation for details."
   ]
  },
  {
   "cell_type": "markdown",
   "metadata": {
    "id": "DDjfh2l8xhKQ"
   },
   "source": [
    "# Compiling the model\n",
    "\n",
    "After the model has been constructed, we \"compile\" it. In particular, we specify\n",
    "- the loss function and the optimizer to use\n",
    "- list of extra metrics to compute during training and evaluation (optional but highly useful)\n",
    "\n",
    "We use the \"sparse\" version of cross entropy, since our class targets are just numbers (sparse versions of the corresponding one-hot vector). More of this a bit later.\n",
    "\n",
    "Use [`binary_crossentropy`](https://www.tensorflow.org/api_docs/python/tf/keras/losses/binary_crossentropy) for binary classification models (which should end with a single sigmoid output unit)."
   ]
  },
  {
   "cell_type": "code",
   "execution_count": 33,
   "metadata": {
    "id": "TgdHqqDXVa-U"
   },
   "outputs": [],
   "source": [
    "# Links to API documentation\n",
    "# https://www.tensorflow.org/api_docs/python/tf/keras/losses/sparse_categorical_crossentropy\n",
    "# https://www.tensorflow.org/api_docs/python/tf/keras/optimizers/SGD\n",
    "# https://www.tensorflow.org/api_docs/python/tf/keras/metrics/sparse_categorical_accuracy\n",
    "\n",
    "# Also these have their string names but not using them\n",
    "my_loss = tf.keras.losses.sparse_categorical_crossentropy\n",
    "my_sgd  = optimizer=keras.optimizers.SGD()\n",
    "my_acc_metric = keras.metrics.sparse_categorical_accuracy\n",
    "\n",
    "model.compile(loss = my_loss,\n",
    "              optimizer = my_sgd,\n",
    "              metrics=[my_acc_metric])"
   ]
  },
  {
   "cell_type": "markdown",
   "metadata": {
    "id": "6soNuFpW5vtL"
   },
   "source": [
    "# Training the model\n",
    "\n",
    "All you need to do is call the [`fit`](https://www.tensorflow.org/api_docs/python/tf/keras/Sequential#fit) method. It takes as its input\n",
    "- input features and the target classes\n",
    "- number of epochs to train (default: 1)\n",
    "- validation set (optional but strongly recommended)\n",
    "\n",
    "While training, we get progress information\n",
    "- number of instances processed\n",
    "- time per epoch and mean training time per sample\n",
    "- loss and accuracy (or any other extra metrics)\n",
    "\ton both the training set and the validation set\n"
   ]
  },
  {
   "cell_type": "code",
   "execution_count": 34,
   "metadata": {
    "id": "YeMiCQ5cVa-V"
   },
   "outputs": [
    {
     "name": "stdout",
     "output_type": "stream",
     "text": [
      "Epoch 1/30\n",
      "1719/1719 [==============================] - 2s 1ms/step - loss: 0.7656 - sparse_categorical_accuracy: 0.7359 - val_loss: 0.4595 - val_sparse_categorical_accuracy: 0.8438\n",
      "Epoch 2/30\n",
      "1719/1719 [==============================] - 2s 1ms/step - loss: 0.4367 - sparse_categorical_accuracy: 0.8421 - val_loss: 0.3852 - val_sparse_categorical_accuracy: 0.8674\n",
      "Epoch 3/30\n",
      "1719/1719 [==============================] - 2s 1ms/step - loss: 0.3883 - sparse_categorical_accuracy: 0.8607 - val_loss: 0.4132 - val_sparse_categorical_accuracy: 0.8480\n",
      "Epoch 4/30\n",
      "1719/1719 [==============================] - 2s 1ms/step - loss: 0.3661 - sparse_categorical_accuracy: 0.8666 - val_loss: 0.3521 - val_sparse_categorical_accuracy: 0.8746\n",
      "Epoch 5/30\n",
      "1719/1719 [==============================] - 2s 1ms/step - loss: 0.3520 - sparse_categorical_accuracy: 0.8743 - val_loss: 0.3444 - val_sparse_categorical_accuracy: 0.8746\n",
      "Epoch 6/30\n",
      "1719/1719 [==============================] - 2s 1ms/step - loss: 0.3231 - sparse_categorical_accuracy: 0.8812 - val_loss: 0.3372 - val_sparse_categorical_accuracy: 0.8826\n",
      "Epoch 7/30\n",
      "1719/1719 [==============================] - 2s 1ms/step - loss: 0.3152 - sparse_categorical_accuracy: 0.8870 - val_loss: 0.3333 - val_sparse_categorical_accuracy: 0.8792\n",
      "Epoch 8/30\n",
      "1719/1719 [==============================] - 2s 1ms/step - loss: 0.2983 - sparse_categorical_accuracy: 0.8914 - val_loss: 0.3411 - val_sparse_categorical_accuracy: 0.8778\n",
      "Epoch 9/30\n",
      "1719/1719 [==============================] - 2s 1ms/step - loss: 0.2951 - sparse_categorical_accuracy: 0.8923 - val_loss: 0.3220 - val_sparse_categorical_accuracy: 0.8816\n",
      "Epoch 10/30\n",
      "1719/1719 [==============================] - 2s 1ms/step - loss: 0.2780 - sparse_categorical_accuracy: 0.8999 - val_loss: 0.3155 - val_sparse_categorical_accuracy: 0.8854\n",
      "Epoch 11/30\n",
      "1719/1719 [==============================] - 2s 942us/step - loss: 0.2695 - sparse_categorical_accuracy: 0.9013 - val_loss: 0.3091 - val_sparse_categorical_accuracy: 0.8860\n",
      "Epoch 12/30\n",
      "1719/1719 [==============================] - 2s 1ms/step - loss: 0.2591 - sparse_categorical_accuracy: 0.9057 - val_loss: 0.3215 - val_sparse_categorical_accuracy: 0.8814\n",
      "Epoch 13/30\n",
      "1719/1719 [==============================] - 2s 1ms/step - loss: 0.2535 - sparse_categorical_accuracy: 0.9099 - val_loss: 0.3015 - val_sparse_categorical_accuracy: 0.8932\n",
      "Epoch 14/30\n",
      "1719/1719 [==============================] - 2s 1ms/step - loss: 0.2459 - sparse_categorical_accuracy: 0.9108 - val_loss: 0.3043 - val_sparse_categorical_accuracy: 0.8886\n",
      "Epoch 15/30\n",
      "1719/1719 [==============================] - 2s 1ms/step - loss: 0.2405 - sparse_categorical_accuracy: 0.9133 - val_loss: 0.3054 - val_sparse_categorical_accuracy: 0.8872\n",
      "Epoch 16/30\n",
      "1719/1719 [==============================] - 2s 1ms/step - loss: 0.2337 - sparse_categorical_accuracy: 0.9158 - val_loss: 0.2945 - val_sparse_categorical_accuracy: 0.8910\n",
      "Epoch 17/30\n",
      "1719/1719 [==============================] - 2s 1ms/step - loss: 0.2231 - sparse_categorical_accuracy: 0.9194 - val_loss: 0.3361 - val_sparse_categorical_accuracy: 0.8776\n",
      "Epoch 18/30\n",
      "1719/1719 [==============================] - 2s 1ms/step - loss: 0.2217 - sparse_categorical_accuracy: 0.9194 - val_loss: 0.3038 - val_sparse_categorical_accuracy: 0.8938\n",
      "Epoch 19/30\n",
      "1719/1719 [==============================] - 2s 1ms/step - loss: 0.2183 - sparse_categorical_accuracy: 0.9218 - val_loss: 0.3219 - val_sparse_categorical_accuracy: 0.8832\n",
      "Epoch 20/30\n",
      "1719/1719 [==============================] - 2s 1ms/step - loss: 0.2138 - sparse_categorical_accuracy: 0.9228 - val_loss: 0.3222 - val_sparse_categorical_accuracy: 0.8852\n",
      "Epoch 21/30\n",
      "1719/1719 [==============================] - 2s 1ms/step - loss: 0.2078 - sparse_categorical_accuracy: 0.9246 - val_loss: 0.2920 - val_sparse_categorical_accuracy: 0.8948\n",
      "Epoch 22/30\n",
      "1719/1719 [==============================] - 2s 1ms/step - loss: 0.2028 - sparse_categorical_accuracy: 0.9269 - val_loss: 0.2854 - val_sparse_categorical_accuracy: 0.8970\n",
      "Epoch 23/30\n",
      "1719/1719 [==============================] - 2s 1ms/step - loss: 0.1957 - sparse_categorical_accuracy: 0.9294 - val_loss: 0.2904 - val_sparse_categorical_accuracy: 0.8972\n",
      "Epoch 24/30\n",
      "1719/1719 [==============================] - 2s 1ms/step - loss: 0.1873 - sparse_categorical_accuracy: 0.9327 - val_loss: 0.3011 - val_sparse_categorical_accuracy: 0.8928\n",
      "Epoch 25/30\n",
      "1719/1719 [==============================] - 2s 1ms/step - loss: 0.1884 - sparse_categorical_accuracy: 0.9331 - val_loss: 0.2928 - val_sparse_categorical_accuracy: 0.8968\n",
      "Epoch 26/30\n",
      "1719/1719 [==============================] - 2s 1ms/step - loss: 0.1814 - sparse_categorical_accuracy: 0.9366 - val_loss: 0.2863 - val_sparse_categorical_accuracy: 0.8978\n",
      "Epoch 27/30\n",
      "1719/1719 [==============================] - 2s 1ms/step - loss: 0.1771 - sparse_categorical_accuracy: 0.9364 - val_loss: 0.2985 - val_sparse_categorical_accuracy: 0.8946\n",
      "Epoch 28/30\n",
      "1719/1719 [==============================] - 2s 1ms/step - loss: 0.1677 - sparse_categorical_accuracy: 0.9408 - val_loss: 0.3029 - val_sparse_categorical_accuracy: 0.8928\n",
      "Epoch 29/30\n",
      "1719/1719 [==============================] - 2s 1ms/step - loss: 0.1658 - sparse_categorical_accuracy: 0.9394 - val_loss: 0.3173 - val_sparse_categorical_accuracy: 0.8914\n",
      "Epoch 30/30\n",
      "1719/1719 [==============================] - 2s 1ms/step - loss: 0.1628 - sparse_categorical_accuracy: 0.9432 - val_loss: 0.3044 - val_sparse_categorical_accuracy: 0.8928\n"
     ]
    }
   ],
   "source": [
    "history = model.fit(X_train, y_train, epochs = 30,\n",
    "                    validation_data=(X_valid, y_valid))"
   ]
  },
  {
   "cell_type": "markdown",
   "metadata": {
    "id": "rdsrkkF2-FQI"
   },
   "source": [
    "## Sidestep: \"sparse labels\""
   ]
  },
  {
   "cell_type": "markdown",
   "metadata": {
    "id": "OR9hhLoN1o0c"
   },
   "source": [
    "We used the \"sparse\" version of cross entropy, since we didn't \"one-hot\" code our class target values (they are just numbers). Keras offers `to_categorical` utility, should you want to go this way."
   ]
  },
  {
   "cell_type": "code",
   "execution_count": 35,
   "metadata": {
    "id": "PPew5o2Y1x5l"
   },
   "outputs": [],
   "source": [
    "y_train_hot = keras.utils.to_categorical(y_train)\n",
    "y_valid_hot = keras.utils.to_categorical(y_valid)\n",
    "y_test_hot  = keras.utils.to_categorical(y_test)"
   ]
  },
  {
   "cell_type": "code",
   "execution_count": 36,
   "metadata": {
    "id": "Mh6sN-_L15Sf"
   },
   "outputs": [
    {
     "name": "stdout",
     "output_type": "stream",
     "text": [
      "(55000, 10)\n",
      "[0. 0. 0. 0. 1. 0. 0. 0. 0. 0.]\n"
     ]
    }
   ],
   "source": [
    "print(y_train_hot.shape)\n",
    "print(y_train_hot[0])"
   ]
  },
  {
   "cell_type": "markdown",
   "metadata": {
    "id": "zo-7xhmD2f-u"
   },
   "source": [
    "If needed, you can easily map one-hot vectors to their sparse versions:"
   ]
  },
  {
   "cell_type": "code",
   "execution_count": 37,
   "metadata": {
    "id": "U21MjKQ02ogV"
   },
   "outputs": [],
   "source": [
    "# converts the whole tensor, argmax is applied on the entries in the second axis (our one-hot vectors)\n",
    "sparse_labels = np.argmax(y_train_hot, axis=1)"
   ]
  },
  {
   "cell_type": "code",
   "execution_count": 38,
   "metadata": {
    "id": "M4VcXgdU26CI"
   },
   "outputs": [
    {
     "name": "stdout",
     "output_type": "stream",
     "text": [
      "(55000,)\n",
      "4\n"
     ]
    }
   ],
   "source": [
    "print(sparse_labels.shape)\n",
    "print(sparse_labels[0])"
   ]
  },
  {
   "cell_type": "markdown",
   "metadata": {
    "id": "tgiVTNr42DnJ"
   },
   "source": [
    "You then use the one-hot coded labels as the training targets and the (standard) categorical cross entropy as the loss. Everything else is the same."
   ]
  },
  {
   "cell_type": "code",
   "execution_count": 39,
   "metadata": {
    "id": "1kzEGVGRbeAE"
   },
   "outputs": [],
   "source": [
    "# we create a new fresh model for training\n",
    "# otherwise fit would continue from the weights already trained by the precious rounds (try this out)\n",
    "free_memory()\n",
    "model = create_MLP()"
   ]
  },
  {
   "cell_type": "code",
   "execution_count": 40,
   "metadata": {
    "id": "cjxjjD0R3Xqq"
   },
   "outputs": [],
   "source": [
    "my_loss = tf.keras.losses.CategoricalCrossentropy()\n",
    "my_sgd  = optimizer=keras.optimizers.SGD()\n",
    "my_acc_metric = keras.metrics.categorical_accuracy\n",
    "\n",
    "model.compile(loss = my_loss,\n",
    "              optimizer = my_sgd,\n",
    "              metrics=[my_acc_metric])"
   ]
  },
  {
   "cell_type": "code",
   "execution_count": 41,
   "metadata": {
    "id": "7vgm_WhV3voo"
   },
   "outputs": [
    {
     "name": "stdout",
     "output_type": "stream",
     "text": [
      "Epoch 1/30\n",
      "1719/1719 [==============================] - 2s 1ms/step - loss: 0.7660 - categorical_accuracy: 0.7390 - val_loss: 0.4542 - val_categorical_accuracy: 0.8414\n",
      "Epoch 2/30\n",
      "1719/1719 [==============================] - 2s 1ms/step - loss: 0.4376 - categorical_accuracy: 0.8416 - val_loss: 0.3868 - val_categorical_accuracy: 0.8666\n",
      "Epoch 3/30\n",
      "1719/1719 [==============================] - 2s 1ms/step - loss: 0.3902 - categorical_accuracy: 0.8606 - val_loss: 0.4199 - val_categorical_accuracy: 0.8470\n",
      "Epoch 4/30\n",
      "1719/1719 [==============================] - 2s 1ms/step - loss: 0.3644 - categorical_accuracy: 0.8689 - val_loss: 0.3511 - val_categorical_accuracy: 0.8768\n",
      "Epoch 5/30\n",
      "1719/1719 [==============================] - 2s 1ms/step - loss: 0.3511 - categorical_accuracy: 0.8762 - val_loss: 0.3440 - val_categorical_accuracy: 0.8760\n",
      "Epoch 6/30\n",
      "1719/1719 [==============================] - 2s 1ms/step - loss: 0.3206 - categorical_accuracy: 0.8832 - val_loss: 0.3331 - val_categorical_accuracy: 0.8842\n",
      "Epoch 7/30\n",
      "1719/1719 [==============================] - 2s 1ms/step - loss: 0.3116 - categorical_accuracy: 0.8887 - val_loss: 0.3409 - val_categorical_accuracy: 0.8796\n",
      "Epoch 8/30\n",
      "1719/1719 [==============================] - 2s 1ms/step - loss: 0.2944 - categorical_accuracy: 0.8934 - val_loss: 0.3468 - val_categorical_accuracy: 0.8756\n",
      "Epoch 9/30\n",
      "1719/1719 [==============================] - 2s 1ms/step - loss: 0.2923 - categorical_accuracy: 0.8930 - val_loss: 0.3212 - val_categorical_accuracy: 0.8844\n",
      "Epoch 10/30\n",
      "1719/1719 [==============================] - 2s 1ms/step - loss: 0.2747 - categorical_accuracy: 0.9010 - val_loss: 0.3196 - val_categorical_accuracy: 0.8846\n",
      "Epoch 11/30\n",
      "1719/1719 [==============================] - 2s 1ms/step - loss: 0.2650 - categorical_accuracy: 0.9023 - val_loss: 0.3118 - val_categorical_accuracy: 0.8872\n",
      "Epoch 12/30\n",
      "1719/1719 [==============================] - 2s 1ms/step - loss: 0.2568 - categorical_accuracy: 0.9066 - val_loss: 0.3229 - val_categorical_accuracy: 0.8816\n",
      "Epoch 13/30\n",
      "1719/1719 [==============================] - 2s 1ms/step - loss: 0.2494 - categorical_accuracy: 0.9102 - val_loss: 0.3035 - val_categorical_accuracy: 0.8918\n",
      "Epoch 14/30\n",
      "1719/1719 [==============================] - 2s 1ms/step - loss: 0.2428 - categorical_accuracy: 0.9112 - val_loss: 0.3163 - val_categorical_accuracy: 0.8836\n",
      "Epoch 15/30\n",
      "1719/1719 [==============================] - 2s 1ms/step - loss: 0.2368 - categorical_accuracy: 0.9132 - val_loss: 0.3130 - val_categorical_accuracy: 0.8886\n",
      "Epoch 16/30\n",
      "1719/1719 [==============================] - 2s 1ms/step - loss: 0.2307 - categorical_accuracy: 0.9179 - val_loss: 0.2985 - val_categorical_accuracy: 0.8920\n",
      "Epoch 17/30\n",
      "1719/1719 [==============================] - 2s 1ms/step - loss: 0.2208 - categorical_accuracy: 0.9199 - val_loss: 0.3398 - val_categorical_accuracy: 0.8814\n",
      "Epoch 18/30\n",
      "1719/1719 [==============================] - 2s 1ms/step - loss: 0.2181 - categorical_accuracy: 0.9213 - val_loss: 0.3095 - val_categorical_accuracy: 0.8930\n",
      "Epoch 19/30\n",
      "1719/1719 [==============================] - 2s 1ms/step - loss: 0.2153 - categorical_accuracy: 0.9221 - val_loss: 0.3205 - val_categorical_accuracy: 0.8838\n",
      "Epoch 20/30\n",
      "1719/1719 [==============================] - 2s 1ms/step - loss: 0.2102 - categorical_accuracy: 0.9254 - val_loss: 0.3263 - val_categorical_accuracy: 0.8844\n",
      "Epoch 21/30\n",
      "1719/1719 [==============================] - 2s 1ms/step - loss: 0.2056 - categorical_accuracy: 0.9272 - val_loss: 0.2980 - val_categorical_accuracy: 0.8964\n",
      "Epoch 22/30\n",
      "1719/1719 [==============================] - 2s 1ms/step - loss: 0.2007 - categorical_accuracy: 0.9260 - val_loss: 0.2967 - val_categorical_accuracy: 0.8940\n",
      "Epoch 23/30\n",
      "1719/1719 [==============================] - 2s 1ms/step - loss: 0.1925 - categorical_accuracy: 0.9304 - val_loss: 0.3002 - val_categorical_accuracy: 0.8956\n",
      "Epoch 24/30\n",
      "1719/1719 [==============================] - 2s 1ms/step - loss: 0.1831 - categorical_accuracy: 0.9346 - val_loss: 0.3159 - val_categorical_accuracy: 0.8914\n",
      "Epoch 25/30\n",
      "1719/1719 [==============================] - 2s 1ms/step - loss: 0.1852 - categorical_accuracy: 0.9342 - val_loss: 0.3009 - val_categorical_accuracy: 0.8932\n",
      "Epoch 26/30\n",
      "1719/1719 [==============================] - 2s 1ms/step - loss: 0.1778 - categorical_accuracy: 0.9378 - val_loss: 0.2994 - val_categorical_accuracy: 0.8954\n",
      "Epoch 27/30\n",
      "1719/1719 [==============================] - 2s 1ms/step - loss: 0.1745 - categorical_accuracy: 0.9381 - val_loss: 0.3185 - val_categorical_accuracy: 0.8928\n",
      "Epoch 28/30\n",
      "1719/1719 [==============================] - 2s 1ms/step - loss: 0.1648 - categorical_accuracy: 0.9406 - val_loss: 0.3200 - val_categorical_accuracy: 0.8902\n",
      "Epoch 29/30\n",
      "1719/1719 [==============================] - 2s 1ms/step - loss: 0.1630 - categorical_accuracy: 0.9410 - val_loss: 0.3211 - val_categorical_accuracy: 0.8932\n",
      "Epoch 30/30\n",
      "1719/1719 [==============================] - 2s 1ms/step - loss: 0.1596 - categorical_accuracy: 0.9440 - val_loss: 0.3183 - val_categorical_accuracy: 0.8950\n"
     ]
    }
   ],
   "source": [
    "history = model.fit(X_train, y_train_hot, epochs=30,\n",
    "                    validation_data=(X_valid, y_valid_hot))"
   ]
  },
  {
   "cell_type": "markdown",
   "metadata": {
    "id": "Fhz-jUgNhU-H"
   },
   "source": [
    "## Sidestep: Weighting classes and examples\n",
    "\n",
    "Sometimes there are lots of examples from some classes and less examples from some other classes. Since the (default) loss is simply the mean of all individual losses, the model may \"specialize\" it to fit the frequent classes.\n",
    "\n",
    "To avoid this, you can use the `class_weight` argument when training your model. Give a larger weight to underrepresented classes and a lower weight to overrepresented classes. One possible way is to set the class weights related to the inverses of class frequencies. The loss function then multiplies the individual losses using these weights.\n",
    "\n",
    "Your examples may also vary in their trustworthiness. For example, some labels might be given by domain experts and some by crowdsourcing. You can specify a weight for each training (and validation) instance with the `sample_weight` argument.\n",
    "\n",
    "If both `class_weight` and `sample_weight` are given, they are multiplied in loss computations. See [`fit` documentation](https://www.tensorflow.org/api_docs/python/tf/keras/Sequential#fit) for details."
   ]
  },
  {
   "cell_type": "markdown",
   "metadata": {
    "id": "QEnsTx9d-sRj"
   },
   "source": [
    "# Examining training history"
   ]
  },
  {
   "cell_type": "markdown",
   "metadata": {
    "id": "nBsoTxBV8BwG"
   },
   "source": [
    "The output of `fit` is a `History` object, which is very useful for analysing the training process (more of this later). In particular, `history.history` (stupid name) is a Python dictionary recording all the metrics values fit reported while training."
   ]
  },
  {
   "cell_type": "code",
   "execution_count": 42,
   "metadata": {
    "id": "VtDT9a_I8D3C"
   },
   "outputs": [
    {
     "name": "stdout",
     "output_type": "stream",
     "text": [
      "{'verbose': 1, 'epochs': 30, 'steps': 1719}\n",
      "[0, 1, 2, 3, 4, 5, 6, 7, 8, 9, 10, 11, 12, 13, 14, 15, 16, 17, 18, 19, 20, 21, 22, 23, 24, 25, 26, 27, 28, 29]\n",
      "dict_keys(['loss', 'categorical_accuracy', 'val_loss', 'val_categorical_accuracy'])\n"
     ]
    }
   ],
   "source": [
    "hist_params = history.params\n",
    "# sometimes you continue from a previous run (so epoch numbers don't always start from 0)\n",
    "hist_epochs = history.epoch\n",
    "hist_data = history.history\n",
    "\n",
    "print(hist_params)\n",
    "print(hist_epochs)\n",
    "print(hist_data.keys())"
   ]
  },
  {
   "cell_type": "markdown",
   "metadata": {
    "id": "856PiHLneUbQ"
   },
   "source": [
    "Below is a typical matplotlib plot of the history data (layout could be improved)."
   ]
  },
  {
   "cell_type": "code",
   "execution_count": 43,
   "metadata": {
    "id": "sMHIKKpyAgHG"
   },
   "outputs": [
    {
     "data": {
      "image/png": "[encoded data removed]",
      "text/plain": [
       "<Figure size 432x288 with 1 Axes>"
      ]
     },
     "metadata": {
      "needs_background": "light"
     },
     "output_type": "display_data"
    }
   ],
   "source": [
    "# select which data you want to plot (we select all of them here)\n",
    "plt.plot(hist_data['loss'], label='Loss (training)')\n",
    "plt.plot(hist_data['val_loss'], label='Loss (validation)')\n",
    "plt.plot(hist_data['categorical_accuracy'], label='Accuracy (training)')\n",
    "plt.plot(hist_data['val_categorical_accuracy'], label='Accuracy (validation)')\n",
    "\n",
    "plt.title('Loss values')\n",
    "plt.ylabel('Cross entropy')\n",
    "plt.xlabel('Epoch')\n",
    "plt.legend(loc=\"upper left\")\n",
    "# You can comment this off if %matplotlib inline has been used\n",
    "plt.show()"
   ]
  },
  {
   "cell_type": "markdown",
   "metadata": {
    "id": "OEjToVXiBQ5P"
   },
   "source": [
    "If you are familiar with Python data analysis library [`pandas`](https://pandas.pydata.org/), you can do the same in a much more compact way (and the default layout is better, too) by making use of [`DataFrame`](https://pandas.pydata.org/docs/user_guide/dsintro.html#dataframe)."
   ]
  },
  {
   "cell_type": "code",
   "execution_count": 44,
   "metadata": {
    "id": "m4VQaWgYVa-W"
   },
   "outputs": [
    {
     "data": {
      "image/png": "[encoded data removed]",
      "text/plain": [
       "<Figure size 576x360 with 1 Axes>"
      ]
     },
     "metadata": {
      "needs_background": "light"
     },
     "output_type": "display_data"
    }
   ],
   "source": [
    "import pandas as pd\n",
    "\n",
    "pd.DataFrame(hist_data).plot(figsize=(8, 5))\n",
    "plt.grid(True)\n",
    "plt.gca().set_ylim(0, 1)\n",
    "plt.show()"
   ]
  },
  {
   "cell_type": "markdown",
   "metadata": {
    "id": "Wi1RDJqjkoR7"
   },
   "source": [
    "We see from the plots that both the training accuracy and the validation accuracy steadily increase during training, while the training loss and the validation loss decrease. The validation curves are close to the training curves, which means that there is not too much overfitting.\n",
    "\n",
    "You can tell that the model has not quite converged yet, as the validation loss is still going down, so you should probably continue training (by calling the `fit()` method again).\n",
    "\n",
    "It may look strange that validation accuracy is better than training accuracy in the start of the training. This is because the training accuracy is a mean of all minibatch accuracies of the epoch, while the validation accuracy (and loss) is computed at the end of the epoch. Training losses are large in the beginning since weights were just random numbers, which leads to larger mean losses.\n",
    "\n",
    "For more comparable results, you can shift the training curve to the left by half an epoch in the plots. However, this difference should vanish after a few training epochs."
   ]
  },
  {
   "cell_type": "markdown",
   "metadata": {
    "id": "U57meGY8cwaO"
   },
   "source": [
    "*Best practise:* plot the history curves after training. Find the \"sweet spot\" where validation loss/accuracy stops improving. In hyperparameter tuning, look for the best such validation accuracies. (There are automatic tools for both of these tasks)"
   ]
  },
  {
   "cell_type": "markdown",
   "metadata": {
    "id": "H3rmTT1SoRtK"
   },
   "source": [
    "## Few words about hyperparameter tuning\n",
    "\n",
    "If the model isn't performing well enough, what can we tune?\n",
    "- learning rate (always retune it after changing any other hyperparameter)\n",
    "- another optimizer\n",
    "- model hyperparameters (number of layers, neurons per layer, activation functions in hidden layers)\n",
    "\n",
    "Real-world applications typically use a *schedule* for the learning rate. Keras offers some simple [`schedules`](https://www.tensorflow.org/api_docs/python/tf/keras/optimizers/schedules) and a customizabe [`LearningRateSchedule`](LearningRateSchedule), but you can go even more custom by defining your own \"callbacks\" (things that are called after each batch or epoch; more about them later).\n"
   ]
  },
  {
   "cell_type": "markdown",
   "metadata": {
    "id": "ynO53ErSC3rB"
   },
   "source": [
    "# Evaluating the model"
   ]
  },
  {
   "cell_type": "markdown",
   "metadata": {
    "id": "pkFKtRJynSr4"
   },
   "source": [
    "Our model (with best hyperparameters) has now been trained and we can evaluate it on the test set to estimate the *generalization error*."
   ]
  },
  {
   "cell_type": "code",
   "execution_count": 45,
   "metadata": {
    "id": "6CIO5JRiVa-W"
   },
   "outputs": [
    {
     "name": "stdout",
     "output_type": "stream",
     "text": [
      "313/313 [==============================] - 0s 813us/step - loss: 0.3472 - categorical_accuracy: 0.8840\n"
     ]
    },
    {
     "data": {
      "text/plain": [
       "[0.34722593426704407, 0.8840000033378601]"
      ]
     },
     "execution_count": 45,
     "metadata": {},
     "output_type": "execute_result"
    }
   ],
   "source": [
    "#For comparision: accuracies after 30 epochs: 92.06% train, 88.56% val\n",
    "# use the one you trained your model with\n",
    "model.evaluate(X_test, y_test_hot)\n",
    "\n",
    "# model.evaluate(X_test, y_test)"
   ]
  },
  {
   "cell_type": "markdown",
   "metadata": {
    "id": "snN2X55Qqzae"
   },
   "source": [
    "It is expected to get slightly lower performance on the test set\n",
    "than on the validation set, since the hyperparameters were tuned on the validation set, not the test set."
   ]
  },
  {
   "cell_type": "markdown",
   "metadata": {
    "id": "xipc69pRqobD"
   },
   "source": [
    "# Using the model\n",
    "\n",
    "We decided that the performance of our model on the test set was acceptable and we can start using it in some application to make predictions for new examples.\n",
    "\n",
    "Since we don't have any, let's just re-use the test data."
   ]
  },
  {
   "cell_type": "code",
   "execution_count": 46,
   "metadata": {
    "id": "7YaOKhSRVa-W"
   },
   "outputs": [],
   "source": [
    "X_new = X_test[:3]\n",
    "y_proba = model.predict(X_new)\n"
   ]
  },
  {
   "cell_type": "markdown",
   "metadata": {
    "id": "FA1SH5VCrdw4"
   },
   "source": [
    "The model output consists of 10 probabilities, one for each class:"
   ]
  },
  {
   "cell_type": "code",
   "execution_count": 47,
   "metadata": {
    "id": "3XC08KGJrkuh"
   },
   "outputs": [
    {
     "name": "stdout",
     "output_type": "stream",
     "text": [
      "[[0.   0.   0.   0.   0.   0.01 0.   0.01 0.   0.98]\n",
      " [0.   0.   1.   0.   0.   0.   0.   0.   0.   0.  ]\n",
      " [0.   1.   0.   0.   0.   0.   0.   0.   0.   0.  ]]\n"
     ]
    }
   ],
   "source": [
    "print(y_proba.round(2))"
   ]
  },
  {
   "cell_type": "markdown",
   "metadata": {
    "id": "PQ4oAOQzrs7d"
   },
   "source": [
    "It looks like the first example has class 9, second class 2 and third one class 1. We can use `argmax` to pick these indexes."
   ]
  },
  {
   "cell_type": "code",
   "execution_count": 48,
   "metadata": {
    "id": "V3avTLNgsIcJ"
   },
   "outputs": [
    {
     "name": "stdout",
     "output_type": "stream",
     "text": [
      "[9 2 1]\n"
     ]
    }
   ],
   "source": [
    "y_pred = np.argmax(y_proba, axis=-1)\n",
    "print(y_pred)"
   ]
  },
  {
   "cell_type": "markdown",
   "metadata": {
    "id": "YUh9W62Ksinc"
   },
   "source": [
    "Let's see what were the corresponding ground truths (correct answers)."
   ]
  },
  {
   "cell_type": "code",
   "execution_count": 49,
   "metadata": {
    "id": "WXaDkQKZsoQv"
   },
   "outputs": [
    {
     "name": "stdout",
     "output_type": "stream",
     "text": [
      "[9 2 1]\n"
     ]
    }
   ],
   "source": [
    "y_new = y_test[:3]\n",
    "print(y_new)"
   ]
  },
  {
   "cell_type": "markdown",
   "metadata": {
    "id": "xskgwfsGsvXT"
   },
   "source": [
    "Finally, we decode the class names to make them readable for humans."
   ]
  },
  {
   "cell_type": "code",
   "execution_count": 50,
   "metadata": {
    "id": "XKuuz8OsVa-X"
   },
   "outputs": [
    {
     "name": "stdout",
     "output_type": "stream",
     "text": [
      "['Ankle boot' 'Pullover' 'Trousers']\n"
     ]
    }
   ],
   "source": [
    "print(np.array(class_names)[y_pred])"
   ]
  },
  {
   "cell_type": "markdown",
   "metadata": {
    "id": "x4rkVQ6_ujYL"
   },
   "source": [
    "# Summary\n",
    "\n",
    "Below is the collected code for the main steps of training a network."
   ]
  },
  {
   "cell_type": "code",
   "execution_count": 51,
   "metadata": {
    "id": "D8fOoFVRvk_X"
   },
   "outputs": [],
   "source": [
    "free_memory()"
   ]
  },
  {
   "cell_type": "code",
   "execution_count": 52,
   "metadata": {
    "id": "yJnx2Dq9we1N"
   },
   "outputs": [],
   "source": [
    "# Load data (in this case all of it fits in the memory)\n",
    "(X_train_full, y_train_full), (X_test, y_test) = keras.datasets.fashion_mnist.load_data()"
   ]
  },
  {
   "cell_type": "code",
   "execution_count": 53,
   "metadata": {
    "id": "J8_SXtJXwh1U"
   },
   "outputs": [],
   "source": [
    "# Create a validation set (if needed)\n",
    "# Preprocess the data (if needed, here just simple scaling)\n",
    "X_valid, X_train = X_train_full[:5000] / 255., X_train_full[5000:] / 255.\n",
    "y_valid, y_train = y_train_full[:5000], y_train_full[5000:]\n",
    "X_test = X_test / 255."
   ]
  },
  {
   "cell_type": "code",
   "execution_count": 54,
   "metadata": {
    "id": "LYq6JuHmwmLn"
   },
   "outputs": [],
   "source": [
    "# create model\n",
    "model = keras.models.Sequential([\n",
    "    keras.layers.Flatten(input_shape = (28, 28)),\n",
    "    keras.layers.Dense(28*28, activation = keras.activations.relu),\n",
    "    keras.layers.Dense(0.5*28*28, activation = keras.activations.relu),\n",
    "    keras.layers.Dense(0.25*28*28, activation = keras.activations.relu),\n",
    "    keras.layers.Dense(10,  activation = keras.activations.softmax)\n",
    "])"
   ]
  },
  {
   "cell_type": "code",
   "execution_count": 55,
   "metadata": {
    "id": "wOZVDmyyuvFu"
   },
   "outputs": [],
   "source": [
    "# compile the model\n",
    "model.compile(loss = tf.keras.losses.SparseCategoricalCrossentropy(),\n",
    "              optimizer = keras.optimizers.SGD(),\n",
    "              metrics=[keras.metrics.sparse_categorical_accuracy])"
   ]
  },
  {
   "cell_type": "code",
   "execution_count": 56,
   "metadata": {
    "id": "EIEwIL3JwSD8"
   },
   "outputs": [
    {
     "name": "stdout",
     "output_type": "stream",
     "text": [
      "Epoch 1/30\n",
      "1719/1719 [==============================] - 2s 1ms/step - loss: 0.9924 - sparse_categorical_accuracy: 0.6790 - val_loss: 0.5219 - val_sparse_categorical_accuracy: 0.8190\n",
      "Epoch 2/30\n",
      "1719/1719 [==============================] - 2s 1ms/step - loss: 0.4846 - sparse_categorical_accuracy: 0.8284 - val_loss: 0.4137 - val_sparse_categorical_accuracy: 0.8578\n",
      "Epoch 3/30\n",
      "1719/1719 [==============================] - 2s 1ms/step - loss: 0.4246 - sparse_categorical_accuracy: 0.8483 - val_loss: 0.5397 - val_sparse_categorical_accuracy: 0.7962\n",
      "Epoch 4/30\n",
      "1719/1719 [==============================] - 2s 1ms/step - loss: 0.3929 - sparse_categorical_accuracy: 0.8618 - val_loss: 0.3662 - val_sparse_categorical_accuracy: 0.8710\n",
      "Epoch 5/30\n",
      "1719/1719 [==============================] - 2s 1ms/step - loss: 0.3750 - sparse_categorical_accuracy: 0.8668 - val_loss: 0.3517 - val_sparse_categorical_accuracy: 0.8774\n",
      "Epoch 6/30\n",
      "1719/1719 [==============================] - 2s 1ms/step - loss: 0.3430 - sparse_categorical_accuracy: 0.8769 - val_loss: 0.3475 - val_sparse_categorical_accuracy: 0.8792\n",
      "Epoch 7/30\n",
      "1719/1719 [==============================] - 2s 1ms/step - loss: 0.3303 - sparse_categorical_accuracy: 0.8813 - val_loss: 0.3389 - val_sparse_categorical_accuracy: 0.8820\n",
      "Epoch 8/30\n",
      "1719/1719 [==============================] - 2s 1ms/step - loss: 0.3121 - sparse_categorical_accuracy: 0.8870 - val_loss: 0.3634 - val_sparse_categorical_accuracy: 0.8662\n",
      "Epoch 9/30\n",
      "1719/1719 [==============================] - 2s 1ms/step - loss: 0.3104 - sparse_categorical_accuracy: 0.8859 - val_loss: 0.3295 - val_sparse_categorical_accuracy: 0.8796\n",
      "Epoch 10/30\n",
      "1719/1719 [==============================] - 2s 1ms/step - loss: 0.2930 - sparse_categorical_accuracy: 0.8933 - val_loss: 0.3242 - val_sparse_categorical_accuracy: 0.8848\n",
      "Epoch 11/30\n",
      "1719/1719 [==============================] - 2s 1ms/step - loss: 0.2821 - sparse_categorical_accuracy: 0.8970 - val_loss: 0.3148 - val_sparse_categorical_accuracy: 0.8862\n",
      "Epoch 12/30\n",
      "1719/1719 [==============================] - 2s 1ms/step - loss: 0.2712 - sparse_categorical_accuracy: 0.9005 - val_loss: 0.3139 - val_sparse_categorical_accuracy: 0.8846\n",
      "Epoch 13/30\n",
      "1719/1719 [==============================] - 2s 1ms/step - loss: 0.2650 - sparse_categorical_accuracy: 0.9025 - val_loss: 0.3093 - val_sparse_categorical_accuracy: 0.8882\n",
      "Epoch 14/30\n",
      "1719/1719 [==============================] - 2s 1ms/step - loss: 0.2571 - sparse_categorical_accuracy: 0.9053 - val_loss: 0.3223 - val_sparse_categorical_accuracy: 0.8806\n",
      "Epoch 15/30\n",
      "1719/1719 [==============================] - 2s 1ms/step - loss: 0.2513 - sparse_categorical_accuracy: 0.9076 - val_loss: 0.3197 - val_sparse_categorical_accuracy: 0.8868\n",
      "Epoch 16/30\n",
      "1719/1719 [==============================] - 2s 1ms/step - loss: 0.2433 - sparse_categorical_accuracy: 0.9123 - val_loss: 0.2921 - val_sparse_categorical_accuracy: 0.8926\n",
      "Epoch 17/30\n",
      "1719/1719 [==============================] - 2s 1ms/step - loss: 0.2339 - sparse_categorical_accuracy: 0.9150 - val_loss: 0.3353 - val_sparse_categorical_accuracy: 0.8804\n",
      "Epoch 18/30\n",
      "1719/1719 [==============================] - 2s 1ms/step - loss: 0.2320 - sparse_categorical_accuracy: 0.9161 - val_loss: 0.2939 - val_sparse_categorical_accuracy: 0.8998\n",
      "Epoch 19/30\n",
      "1719/1719 [==============================] - 2s 1ms/step - loss: 0.2260 - sparse_categorical_accuracy: 0.9177 - val_loss: 0.2922 - val_sparse_categorical_accuracy: 0.8952\n",
      "Epoch 20/30\n",
      "1719/1719 [==============================] - 2s 1ms/step - loss: 0.2220 - sparse_categorical_accuracy: 0.9202 - val_loss: 0.3176 - val_sparse_categorical_accuracy: 0.8854\n",
      "Epoch 21/30\n",
      "1719/1719 [==============================] - 2s 1ms/step - loss: 0.2156 - sparse_categorical_accuracy: 0.9223 - val_loss: 0.2956 - val_sparse_categorical_accuracy: 0.8922\n",
      "Epoch 22/30\n",
      "1719/1719 [==============================] - 2s 1ms/step - loss: 0.2113 - sparse_categorical_accuracy: 0.9218 - val_loss: 0.2786 - val_sparse_categorical_accuracy: 0.9004\n",
      "Epoch 23/30\n",
      "1719/1719 [==============================] - 2s 1ms/step - loss: 0.2034 - sparse_categorical_accuracy: 0.9251 - val_loss: 0.2855 - val_sparse_categorical_accuracy: 0.8968\n",
      "Epoch 24/30\n",
      "1719/1719 [==============================] - 2s 1ms/step - loss: 0.1942 - sparse_categorical_accuracy: 0.9292 - val_loss: 0.2919 - val_sparse_categorical_accuracy: 0.8974\n",
      "Epoch 25/30\n",
      "1719/1719 [==============================] - 2s 1ms/step - loss: 0.1954 - sparse_categorical_accuracy: 0.9294 - val_loss: 0.2864 - val_sparse_categorical_accuracy: 0.9006\n",
      "Epoch 26/30\n",
      "1719/1719 [==============================] - 2s 1ms/step - loss: 0.1883 - sparse_categorical_accuracy: 0.9323 - val_loss: 0.2930 - val_sparse_categorical_accuracy: 0.8986\n",
      "Epoch 27/30\n",
      "1719/1719 [==============================] - 2s 1ms/step - loss: 0.1842 - sparse_categorical_accuracy: 0.9332 - val_loss: 0.2972 - val_sparse_categorical_accuracy: 0.8998\n",
      "Epoch 28/30\n",
      "1719/1719 [==============================] - 2s 1ms/step - loss: 0.1771 - sparse_categorical_accuracy: 0.9355 - val_loss: 0.2926 - val_sparse_categorical_accuracy: 0.8974\n",
      "Epoch 29/30\n",
      "1719/1719 [==============================] - 2s 1ms/step - loss: 0.1725 - sparse_categorical_accuracy: 0.9369 - val_loss: 0.2968 - val_sparse_categorical_accuracy: 0.8984\n",
      "Epoch 30/30\n",
      "1719/1719 [==============================] - 2s 1ms/step - loss: 0.1680 - sparse_categorical_accuracy: 0.9407 - val_loss: 0.3030 - val_sparse_categorical_accuracy: 0.8958\n"
     ]
    }
   ],
   "source": [
    "# train the model\n",
    "history = model.fit(X_train, y_train, epochs = 30, validation_data=(X_valid, y_valid))"
   ]
  },
  {
   "cell_type": "code",
   "execution_count": 57,
   "metadata": {},
   "outputs": [
    {
     "name": "stdout",
     "output_type": "stream",
     "text": [
      "313/313 [==============================] - 0s 864us/step - loss: 0.3353 - sparse_categorical_accuracy: 0.8866\n"
     ]
    },
    {
     "data": {
      "text/plain": [
       "[0.33534103631973267, 0.8866000175476074]"
      ]
     },
     "execution_count": 57,
     "metadata": {},
     "output_type": "execute_result"
    }
   ],
   "source": [
    "#For comparision: accuracies after 30 epochs: 92.06% train, 88.56% val\n",
    "# use the one you trained your model with\n",
    "model.evaluate(X_test, y_test)\n",
    "\n",
    "# model.evaluate(X_test, y_test)"
   ]
  },
  {
   "cell_type": "code",
   "execution_count": 58,
   "metadata": {},
   "outputs": [
    {
     "name": "stdout",
     "output_type": "stream",
     "text": [
      "{'verbose': 1, 'epochs': 30, 'steps': 1719}\n",
      "[0, 1, 2, 3, 4, 5, 6, 7, 8, 9, 10, 11, 12, 13, 14, 15, 16, 17, 18, 19, 20, 21, 22, 23, 24, 25, 26, 27, 28, 29]\n",
      "dict_keys(['loss', 'sparse_categorical_accuracy', 'val_loss', 'val_sparse_categorical_accuracy'])\n"
     ]
    }
   ],
   "source": [
    "hist_params = history.params\n",
    "# sometimes you continue from a previous run (so epoch numbers don't always start from 0)\n",
    "hist_epochs = history.epoch\n",
    "hist_data = history.history\n",
    "\n",
    "print(hist_params)\n",
    "print(hist_epochs)\n",
    "print(hist_data.keys())"
   ]
  },
  {
   "cell_type": "code",
   "execution_count": 59,
   "metadata": {},
   "outputs": [
    {
     "data": {
      "image/png": "[encoded data removed]",
      "text/plain": [
       "<Figure size 432x288 with 1 Axes>"
      ]
     },
     "metadata": {
      "needs_background": "light"
     },
     "output_type": "display_data"
    }
   ],
   "source": [
    "# select which data you want to plot (we select all of them here)\n",
    "plt.plot(hist_data['loss'], label='Loss (training)')\n",
    "plt.plot(hist_data['val_loss'], label='Loss (validation)')\n",
    "plt.plot(hist_data['sparse_categorical_accuracy'], label='Accuracy (training)')\n",
    "plt.plot(hist_data['val_sparse_categorical_accuracy'], label='Accuracy (validation)')\n",
    "\n",
    "plt.title('Loss values')\n",
    "plt.ylabel('Cross entropy')\n",
    "plt.xlabel('Epoch')\n",
    "plt.legend(loc=\"upper left\")\n",
    "# You can comment this off if %matplotlib inline has been used\n",
    "plt.show()"
   ]
  },
  {
   "cell_type": "code",
   "execution_count": 60,
   "metadata": {},
   "outputs": [
    {
     "data": {
      "image/png": "[encoded data removed]",
      "text/plain": [
       "<Figure size 576x360 with 1 Axes>"
      ]
     },
     "metadata": {
      "needs_background": "light"
     },
     "output_type": "display_data"
    }
   ],
   "source": [
    "import pandas as pd\n",
    "\n",
    "pd.DataFrame(hist_data).plot(figsize=(8, 5))\n",
    "plt.grid(True)\n",
    "plt.gca().set_ylim(0, 1)\n",
    "plt.show()"
   ]
  },
  {
   "cell_type": "code",
   "execution_count": 61,
   "metadata": {},
   "outputs": [
    {
     "name": "stdout",
     "output_type": "stream",
     "text": [
      "[[0.   0.   0.   0.   0.   0.   0.   0.01 0.   0.99]\n",
      " [0.   0.   1.   0.   0.   0.   0.   0.   0.   0.  ]\n",
      " [0.   1.   0.   0.   0.   0.   0.   0.   0.   0.  ]]\n",
      "[9 2 1]\n",
      "[9 2 1]\n",
      "['Ankle boot' 'Pullover' 'Trousers']\n"
     ]
    }
   ],
   "source": [
    "X_new = X_test[:3]\n",
    "y_proba = model.predict(X_new)\n",
    "print(y_proba.round(2))\n",
    "y_pred = np.argmax(y_proba, axis=-1)\n",
    "print(y_pred)\n",
    "y_new = y_test[:3]\n",
    "print(y_new)\n",
    "print(np.array(class_names)[y_pred])"
   ]
  }
 ],
 "metadata": {
  "accelerator": "GPU",
  "colab": {
   "collapsed_sections": [
    "qhFCJJT4Va-I",
    "Gj7F1cRneOmD",
    "pv2AuYfKZc8T",
    "uoRvyRUPmOBb",
    "GTEjSMJ2X-Qb",
    "DDjfh2l8xhKQ",
    "6soNuFpW5vtL",
    "rdsrkkF2-FQI",
    "QEnsTx9d-sRj",
    "ynO53ErSC3rB",
    "xipc69pRqobD",
    "x4rkVQ6_ujYL"
   ],
   "name": "My first neural network",
   "provenance": []
  },
  "kernelspec": {
   "display_name": "Python 3",
   "language": "python",
   "name": "python3"
  },
  "language_info": {
   "codemirror_mode": {
    "name": "ipython",
    "version": 3
   },
   "file_extension": ".py",
   "mimetype": "text/x-python",
   "name": "python",
   "nbconvert_exporter": "python",
   "pygments_lexer": "ipython3",
   "version": "3.8.5"
  },
  "nav_menu": {
   "height": "264px",
   "width": "369px"
  },
  "toc": {
   "navigate_menu": true,
   "number_sections": true,
   "sideBar": true,
   "threshold": 6,
   "toc_cell": false,
   "toc_section_display": "block",
   "toc_window_display": false
  }
 },
 "nbformat": 4,
 "nbformat_minor": 1
}
